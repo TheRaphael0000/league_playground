{
 "cells": [
  {
   "cell_type": "code",
   "execution_count": null,
   "id": "0ff1cd22",
   "metadata": {},
   "outputs": [],
   "source": [
    "%load_ext autoreload\n",
    "%autoreload 2\n",
    "\n",
    "from pprint import pprint\n",
    "# import liquidpedia_scrap\n",
    "import gol_scrap\n",
    "\n",
    "import pandas as pd\n",
    "from mlxtend.preprocessing import TransactionEncoder\n",
    "from mlxtend.frequent_patterns import fpgrowth\n",
    "from mlxtend.frequent_patterns import apriori, association_rules"
   ]
  },
  {
   "cell_type": "markdown",
   "id": "d4a7eabc",
   "metadata": {},
   "source": [
    "# Scrap"
   ]
  },
  {
   "cell_type": "code",
   "execution_count": null,
   "id": "73d20c9c",
   "metadata": {},
   "outputs": [],
   "source": [
    "match_list = \"https://gol.gg/tournament/tournament-matchlist/Worlds%202025%20Main%20Event/\"\n",
    "games = gol_scrap.get_games_from_schedule(match_list, False)"
   ]
  },
  {
   "cell_type": "code",
   "execution_count": null,
   "id": "de591607",
   "metadata": {},
   "outputs": [],
   "source": [
    "pprint(len(games))\n",
    "pprint(games)"
   ]
  },
  {
   "cell_type": "code",
   "execution_count": null,
   "id": "ba648faf",
   "metadata": {},
   "outputs": [],
   "source": [
    "dataset = [team1[-1] for team1, team2 in games] + [team2[-1] for team1, team2 in games]\n",
    "print(dataset)\n",
    "\n",
    "te = TransactionEncoder()\n",
    "te_ary = te.fit(dataset).transform(dataset)\n",
    "df = pd.DataFrame(te_ary, columns=te.columns_)\n",
    "\n",
    "# apriori_itemsets = apriori(df, min_support=1e-4, use_colnames=True)\n",
    "# display(apriori_itemsets.sort_values(by=['support'], ascending=False).head(100))\n",
    "\n",
    "frequent_itemsets = fpgrowth(df, min_support=0.001, use_colnames=True)\n",
    "display(frequent_itemsets.sort_values(by=['support'], ascending=False).head(5))"
   ]
  },
  {
   "cell_type": "code",
   "execution_count": null,
   "id": "f9a91395",
   "metadata": {},
   "outputs": [],
   "source": [
    "associations = association_rules(frequent_itemsets, metric=\"leverage\", min_threshold=1/len(games))\n",
    "display(associations.sort_values(by=['leverage'], ascending=False).head(40)[::2])"
   ]
  },
  {
   "cell_type": "code",
   "execution_count": null,
   "id": "fd0b5dde",
   "metadata": {},
   "outputs": [],
   "source": []
  }
 ],
 "metadata": {
  "kernelspec": {
   "display_name": ".venv",
   "language": "python",
   "name": "python3"
  },
  "language_info": {
   "codemirror_mode": {
    "name": "ipython",
    "version": 3
   },
   "file_extension": ".py",
   "mimetype": "text/x-python",
   "name": "python",
   "nbconvert_exporter": "python",
   "pygments_lexer": "ipython3",
   "version": "3.14.0"
  }
 },
 "nbformat": 4,
 "nbformat_minor": 5
}
