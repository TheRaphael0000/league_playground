{
 "cells": [
  {
   "cell_type": "code",
   "execution_count": null,
   "id": "d877fc0b",
   "metadata": {},
   "outputs": [],
   "source": [
    "!pip install beautifulsoup4 requests pandas mlxtend"
   ]
  },
  {
   "cell_type": "code",
   "execution_count": null,
   "id": "0ff1cd22",
   "metadata": {},
   "outputs": [],
   "source": [
    "%load_ext autoreload\n",
    "%autoreload 2\n",
    "\n",
    "from pprint import pprint\n",
    "import liquidpedia_scrap\n",
    "\n",
    "import pandas as pd\n",
    "from mlxtend.preprocessing import TransactionEncoder\n",
    "from mlxtend.frequent_patterns import fpgrowth\n",
    "from mlxtend.frequent_patterns import association_rules"
   ]
  },
  {
   "cell_type": "markdown",
   "id": "d4a7eabc",
   "metadata": {},
   "source": [
    "# Scrap"
   ]
  },
  {
   "cell_type": "code",
   "execution_count": null,
   "id": "4fe3ab9c",
   "metadata": {},
   "outputs": [],
   "source": [
    "schedule_url = \"https://liquipedia.net/leagueoflegends/World_Championship/2024/Match_Schedule\"\n",
    "games = liquidpedia_scrap.get_games_from_schedule(schedule_url)"
   ]
  },
  {
   "cell_type": "code",
   "execution_count": null,
   "id": "de591607",
   "metadata": {},
   "outputs": [],
   "source": [
    "pprint(len(games))"
   ]
  },
  {
   "cell_type": "code",
   "execution_count": null,
   "id": "ba648faf",
   "metadata": {},
   "outputs": [],
   "source": [
    "dataset = [team1[-1] for team1, team2 in games] + [team2[-1] for team1, team2 in games]\n",
    "print(dataset)\n",
    "\n",
    "te = TransactionEncoder()\n",
    "te_ary = te.fit(dataset).transform(dataset)\n",
    "df = pd.DataFrame(te_ary, columns=te.columns_)\n",
    "\n",
    "display(df)\n",
    "\n",
    "frequent_itemsets = fpgrowth(df, min_support=0.001, use_colnames=True, max_len=2)\n",
    "\n",
    "display(frequent_itemsets)\n",
    "\n",
    "# associations = association_rules(frequent_itemsets, metric=\"support\", min_threshold=0.0)\n",
    "# associations.sort_values(by=['support'], ascending=False)\n",
    "\n",
    "# with pd.option_context('display.max_rows', 15,\n",
    "#                        'display.max_columns', None,\n",
    "#                        'display.precision', 3,\n",
    "#                        ):\n",
    "#     display(associations)\n",
    "# associations"
   ]
  }
 ],
 "metadata": {
  "kernelspec": {
   "display_name": ".venv",
   "language": "python",
   "name": "python3"
  },
  "language_info": {
   "codemirror_mode": {
    "name": "ipython",
    "version": 3
   },
   "file_extension": ".py",
   "mimetype": "text/x-python",
   "name": "python",
   "nbconvert_exporter": "python",
   "pygments_lexer": "ipython3",
   "version": "3.10.6"
  }
 },
 "nbformat": 4,
 "nbformat_minor": 5
}
